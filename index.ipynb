{
 "cells": [
  {
   "cell_type": "markdown",
   "metadata": {},
   "source": [
    "# Hypothesis Testing - Cumulative Lab\n",
    "\n",
    "## Introduction\n",
    "\n",
    "In this cumulative lab, you will use pandas to clean up a dataset and perform some EDA, then perform statistical tests and interpret their results in order to answer some business questions.\n",
    "\n",
    "## Objectives\n",
    "\n",
    "You will be able to:\n",
    "\n",
    "* Practice using a data dictionary\n",
    "* Practice using pandas to prepare data for statistical analysis\n",
    "* Practice identifying an appropriate statistical test for a given question\n",
    "* Practice defining the null and alternative hypotheses\n",
    "* Practice executing statistical tests and interpreting their results"
   ]
  },
  {
   "cell_type": "markdown",
   "metadata": {},
   "source": [
    "## Your Task: Analyzing Health Trends\n",
    "\n",
    "![tissues and tea mug](images/sick_day.jpg)\n",
    "\n",
    "Photo by <a href=\"https://unsplash.com/@kellysikkema?utm_source=unsplash&utm_medium=referral&utm_content=creditCopyText\">Kelly Sikkema</a> on <a href=\"/?utm_source=unsplash&utm_medium=referral&utm_content=creditCopyText\">Unsplash</a>"
   ]
  },
  {
   "cell_type": "markdown",
   "metadata": {},
   "source": [
    "### Business Understanding\n",
    "\n",
    "Flatiron Health Insurance (FHI) is a growing private healthcare insurance provider founded on the premise that using data and analytics can improve the health insurance industry by providing better care and offerings to its patients. Every year, the Center for Disease Control (CDC) conducts surveys to understand the latest demographic, health, and fitness trends. You have been tasked with analyzing the recently published results of the 2017-2018 survey and providing your recommendations back to the Chief Analytics Officer and Chief Marketing Officer. You have been assigned the task of taking a first look at the data and beginning to answer several key questions:\n",
    "\t\t\t\t\t\t\t\t\t\t\t \t\t\t\t\t\t\t\t\n",
    "1. How does health status, represented by average number of days with bad physical health in the past month (`PHYSHLTH`), differ by state?\t\t\t\t\t \t\t\t\t\t\t\t\t\n",
    "2. Digging deeper into the data, what are some factors that impact health (demographics, behaviors, etc.)?\t\n",
    "\n",
    "### Data Understanding\n",
    "\n",
    "To get you started, the IT department formatted the data set into a tab delimited text file for only NY, NJ, and CT (FHI’s primary markets) called `case_study.csv`.\n",
    "\n",
    "There is also a PDF data dictionary called `data_dictionary.pdf`, which explains the meanings of the features and codes contained in this dataset.\n",
    "\n",
    "Both files are located in the `data/` directory of this repository.\n",
    "\n",
    "Prior to each statistical test, you will need to perform some data preparation, which could include:\n",
    "\n",
    "* Filtering out rows with irrelevant values\n",
    "* Transforming data from codes into human-readable values\n",
    "* Binning data to transform it from numeric to categorical\n",
    "* Creating new columns based on queries of the values in other columns\n",
    "\n",
    "For steps 2-5, you will need to select and execute an appropriate statistical test. Recall these tests we have learned so far:\n",
    "\n",
    "1. [Chi-squared test](https://docs.scipy.org/doc/scipy/reference/generated/scipy.stats.chi2_contingency.html): used for comparing a categorical feature against a categorical feature, to determine whether they are independent\n",
    "2. [t-test](https://docs.scipy.org/doc/scipy/reference/generated/scipy.stats.ttest_ind.html): used for comparing two categories of a numeric feature, to determine whether their means are the same across categories\n",
    "3. [ANOVA](https://www.statsmodels.org/stable/generated/statsmodels.stats.anova.anova_lm.html#statsmodels.stats.anova.anova_lm): used for comparing more than two categories of a numeric feature, to determine whether their means are the same across categories"
   ]
  },
  {
   "cell_type": "markdown",
   "metadata": {},
   "source": [
    "### Requirements\n",
    "\n",
    "#### 1. Prepare `PHYSHLTH` Data for Analysis\n",
    "\n",
    "Using the data dictionary, ensure that you understand the meaning of the `PHYSHLTH` column. Then clean the data so that only valid records of `PHYSHLTH` remain.\n",
    "\n",
    "#### 2. Describe the Distribution of Health Status by State\n",
    "\n",
    "Does health status (`PHYSHLTH`) differ by state (`STATE_`)? If so, by how much, and is it statistically significant?\n",
    "\n",
    "#### 3. Describe the Relationship between Health Status and Home Ownership Status\n",
    "\n",
    "Does health status (`PHYSHLTH`) differ between home owners and renters (`RENTHOM1`)? If so, by how much, and is it statistically significant?\n",
    "\n",
    "#### 4. Describe the Relationship between Chronic Sickness and Nicotine Use\n",
    "\n",
    "Does chronic sickness (`PHYSHLTH >= 15`) differ based on nicotine use (various columns)? If so, by how much, and is it statistically significant?\n",
    "\n",
    "#### 5. Choose Your Own Question\n",
    "\n",
    "Thinking about the business case, what is another question that might be useful to answer? Perform all analysis steps to answer this question."
   ]
  },
  {
   "cell_type": "markdown",
   "metadata": {},
   "source": [
    "## 1. Prepare `PHYSHLTH` Data for Analysis\n",
    "\n",
    "In the cells below, we include the relevant imports and load the data into a dataframe called `df`:"
   ]
  },
  {
   "cell_type": "code",
   "execution_count": 1,
   "metadata": {},
   "outputs": [],
   "source": [
    "# Run this cell without changes\n",
    "import pandas as pd\n",
    "import matplotlib.pyplot as plt\n",
    "import numpy as np\n",
    "%matplotlib inline"
   ]
  },
  {
   "cell_type": "code",
   "execution_count": 2,
   "metadata": {},
   "outputs": [
    {
     "data": {
      "text/html": [
       "<div>\n",
       "<style scoped>\n",
       "    .dataframe tbody tr th:only-of-type {\n",
       "        vertical-align: middle;\n",
       "    }\n",
       "\n",
       "    .dataframe tbody tr th {\n",
       "        vertical-align: top;\n",
       "    }\n",
       "\n",
       "    .dataframe thead th {\n",
       "        text-align: right;\n",
       "    }\n",
       "</style>\n",
       "<table border=\"1\" class=\"dataframe\">\n",
       "  <thead>\n",
       "    <tr style=\"text-align: right;\">\n",
       "      <th></th>\n",
       "      <th>_STATE</th>\n",
       "      <th>FMONTH</th>\n",
       "      <th>IDATE</th>\n",
       "      <th>IMONTH</th>\n",
       "      <th>IDAY</th>\n",
       "      <th>IYEAR</th>\n",
       "      <th>DISPCODE</th>\n",
       "      <th>SEQNO</th>\n",
       "      <th>_PSU</th>\n",
       "      <th>CTELENM1</th>\n",
       "      <th>...</th>\n",
       "      <th>_PA300R2</th>\n",
       "      <th>_PA30021</th>\n",
       "      <th>_PASTRNG</th>\n",
       "      <th>_PAREC1</th>\n",
       "      <th>_PASTAE1</th>\n",
       "      <th>_RFSEAT2</th>\n",
       "      <th>_RFSEAT3</th>\n",
       "      <th>_FLSHOT6</th>\n",
       "      <th>_PNEUMO2</th>\n",
       "      <th>_AIDTST3</th>\n",
       "    </tr>\n",
       "  </thead>\n",
       "  <tbody>\n",
       "    <tr>\n",
       "      <th>49938</th>\n",
       "      <td>9.0</td>\n",
       "      <td>5.0</td>\n",
       "      <td>5172017</td>\n",
       "      <td>5</td>\n",
       "      <td>17</td>\n",
       "      <td>2017</td>\n",
       "      <td>1200.0</td>\n",
       "      <td>2017000001</td>\n",
       "      <td>2.017000e+09</td>\n",
       "      <td>NaN</td>\n",
       "      <td>...</td>\n",
       "      <td>2.0</td>\n",
       "      <td>2.0</td>\n",
       "      <td>2.0</td>\n",
       "      <td>4.0</td>\n",
       "      <td>2.0</td>\n",
       "      <td>1.0</td>\n",
       "      <td>1.0</td>\n",
       "      <td>NaN</td>\n",
       "      <td>NaN</td>\n",
       "      <td>1.0</td>\n",
       "    </tr>\n",
       "    <tr>\n",
       "      <th>49939</th>\n",
       "      <td>9.0</td>\n",
       "      <td>2.0</td>\n",
       "      <td>2142017</td>\n",
       "      <td>2</td>\n",
       "      <td>14</td>\n",
       "      <td>2017</td>\n",
       "      <td>1200.0</td>\n",
       "      <td>2017000002</td>\n",
       "      <td>2.017000e+09</td>\n",
       "      <td>NaN</td>\n",
       "      <td>...</td>\n",
       "      <td>1.0</td>\n",
       "      <td>1.0</td>\n",
       "      <td>1.0</td>\n",
       "      <td>1.0</td>\n",
       "      <td>1.0</td>\n",
       "      <td>2.0</td>\n",
       "      <td>2.0</td>\n",
       "      <td>NaN</td>\n",
       "      <td>NaN</td>\n",
       "      <td>2.0</td>\n",
       "    </tr>\n",
       "    <tr>\n",
       "      <th>49940</th>\n",
       "      <td>9.0</td>\n",
       "      <td>1.0</td>\n",
       "      <td>1292017</td>\n",
       "      <td>1</td>\n",
       "      <td>29</td>\n",
       "      <td>2017</td>\n",
       "      <td>1200.0</td>\n",
       "      <td>2017000003</td>\n",
       "      <td>2.017000e+09</td>\n",
       "      <td>NaN</td>\n",
       "      <td>...</td>\n",
       "      <td>3.0</td>\n",
       "      <td>2.0</td>\n",
       "      <td>1.0</td>\n",
       "      <td>3.0</td>\n",
       "      <td>2.0</td>\n",
       "      <td>1.0</td>\n",
       "      <td>1.0</td>\n",
       "      <td>NaN</td>\n",
       "      <td>NaN</td>\n",
       "      <td>2.0</td>\n",
       "    </tr>\n",
       "    <tr>\n",
       "      <th>49941</th>\n",
       "      <td>9.0</td>\n",
       "      <td>7.0</td>\n",
       "      <td>9112017</td>\n",
       "      <td>9</td>\n",
       "      <td>11</td>\n",
       "      <td>2017</td>\n",
       "      <td>1200.0</td>\n",
       "      <td>2017000004</td>\n",
       "      <td>2.017000e+09</td>\n",
       "      <td>NaN</td>\n",
       "      <td>...</td>\n",
       "      <td>2.0</td>\n",
       "      <td>2.0</td>\n",
       "      <td>2.0</td>\n",
       "      <td>2.0</td>\n",
       "      <td>2.0</td>\n",
       "      <td>1.0</td>\n",
       "      <td>1.0</td>\n",
       "      <td>NaN</td>\n",
       "      <td>NaN</td>\n",
       "      <td>1.0</td>\n",
       "    </tr>\n",
       "    <tr>\n",
       "      <th>49942</th>\n",
       "      <td>9.0</td>\n",
       "      <td>5.0</td>\n",
       "      <td>7182017</td>\n",
       "      <td>7</td>\n",
       "      <td>18</td>\n",
       "      <td>2017</td>\n",
       "      <td>1200.0</td>\n",
       "      <td>2017000005</td>\n",
       "      <td>2.017000e+09</td>\n",
       "      <td>NaN</td>\n",
       "      <td>...</td>\n",
       "      <td>2.0</td>\n",
       "      <td>2.0</td>\n",
       "      <td>1.0</td>\n",
       "      <td>1.0</td>\n",
       "      <td>1.0</td>\n",
       "      <td>1.0</td>\n",
       "      <td>1.0</td>\n",
       "      <td>NaN</td>\n",
       "      <td>NaN</td>\n",
       "      <td>2.0</td>\n",
       "    </tr>\n",
       "    <tr>\n",
       "      <th>...</th>\n",
       "      <td>...</td>\n",
       "      <td>...</td>\n",
       "      <td>...</td>\n",
       "      <td>...</td>\n",
       "      <td>...</td>\n",
       "      <td>...</td>\n",
       "      <td>...</td>\n",
       "      <td>...</td>\n",
       "      <td>...</td>\n",
       "      <td>...</td>\n",
       "      <td>...</td>\n",
       "      <td>...</td>\n",
       "      <td>...</td>\n",
       "      <td>...</td>\n",
       "      <td>...</td>\n",
       "      <td>...</td>\n",
       "      <td>...</td>\n",
       "      <td>...</td>\n",
       "      <td>...</td>\n",
       "      <td>...</td>\n",
       "      <td>...</td>\n",
       "    </tr>\n",
       "    <tr>\n",
       "      <th>303774</th>\n",
       "      <td>36.0</td>\n",
       "      <td>5.0</td>\n",
       "      <td>5152017</td>\n",
       "      <td>5</td>\n",
       "      <td>15</td>\n",
       "      <td>2017</td>\n",
       "      <td>1200.0</td>\n",
       "      <td>2017012245</td>\n",
       "      <td>2.017012e+09</td>\n",
       "      <td>NaN</td>\n",
       "      <td>...</td>\n",
       "      <td>3.0</td>\n",
       "      <td>2.0</td>\n",
       "      <td>2.0</td>\n",
       "      <td>4.0</td>\n",
       "      <td>2.0</td>\n",
       "      <td>1.0</td>\n",
       "      <td>1.0</td>\n",
       "      <td>NaN</td>\n",
       "      <td>NaN</td>\n",
       "      <td>1.0</td>\n",
       "    </tr>\n",
       "    <tr>\n",
       "      <th>303775</th>\n",
       "      <td>36.0</td>\n",
       "      <td>6.0</td>\n",
       "      <td>6252017</td>\n",
       "      <td>6</td>\n",
       "      <td>25</td>\n",
       "      <td>2017</td>\n",
       "      <td>1200.0</td>\n",
       "      <td>2017012246</td>\n",
       "      <td>2.017012e+09</td>\n",
       "      <td>NaN</td>\n",
       "      <td>...</td>\n",
       "      <td>2.0</td>\n",
       "      <td>2.0</td>\n",
       "      <td>2.0</td>\n",
       "      <td>4.0</td>\n",
       "      <td>2.0</td>\n",
       "      <td>1.0</td>\n",
       "      <td>1.0</td>\n",
       "      <td>NaN</td>\n",
       "      <td>NaN</td>\n",
       "      <td>1.0</td>\n",
       "    </tr>\n",
       "    <tr>\n",
       "      <th>303776</th>\n",
       "      <td>36.0</td>\n",
       "      <td>7.0</td>\n",
       "      <td>7212017</td>\n",
       "      <td>7</td>\n",
       "      <td>21</td>\n",
       "      <td>2017</td>\n",
       "      <td>1200.0</td>\n",
       "      <td>2017012247</td>\n",
       "      <td>2.017012e+09</td>\n",
       "      <td>NaN</td>\n",
       "      <td>...</td>\n",
       "      <td>2.0</td>\n",
       "      <td>2.0</td>\n",
       "      <td>2.0</td>\n",
       "      <td>4.0</td>\n",
       "      <td>2.0</td>\n",
       "      <td>1.0</td>\n",
       "      <td>1.0</td>\n",
       "      <td>NaN</td>\n",
       "      <td>NaN</td>\n",
       "      <td>1.0</td>\n",
       "    </tr>\n",
       "    <tr>\n",
       "      <th>303777</th>\n",
       "      <td>36.0</td>\n",
       "      <td>7.0</td>\n",
       "      <td>7202017</td>\n",
       "      <td>7</td>\n",
       "      <td>20</td>\n",
       "      <td>2017</td>\n",
       "      <td>1200.0</td>\n",
       "      <td>2017012248</td>\n",
       "      <td>2.017012e+09</td>\n",
       "      <td>NaN</td>\n",
       "      <td>...</td>\n",
       "      <td>9.0</td>\n",
       "      <td>9.0</td>\n",
       "      <td>9.0</td>\n",
       "      <td>9.0</td>\n",
       "      <td>9.0</td>\n",
       "      <td>9.0</td>\n",
       "      <td>9.0</td>\n",
       "      <td>9.0</td>\n",
       "      <td>9.0</td>\n",
       "      <td>9.0</td>\n",
       "    </tr>\n",
       "    <tr>\n",
       "      <th>303778</th>\n",
       "      <td>36.0</td>\n",
       "      <td>7.0</td>\n",
       "      <td>7252017</td>\n",
       "      <td>7</td>\n",
       "      <td>25</td>\n",
       "      <td>2017</td>\n",
       "      <td>1200.0</td>\n",
       "      <td>2017012249</td>\n",
       "      <td>2.017012e+09</td>\n",
       "      <td>NaN</td>\n",
       "      <td>...</td>\n",
       "      <td>3.0</td>\n",
       "      <td>2.0</td>\n",
       "      <td>2.0</td>\n",
       "      <td>4.0</td>\n",
       "      <td>2.0</td>\n",
       "      <td>1.0</td>\n",
       "      <td>1.0</td>\n",
       "      <td>NaN</td>\n",
       "      <td>NaN</td>\n",
       "      <td>1.0</td>\n",
       "    </tr>\n",
       "  </tbody>\n",
       "</table>\n",
       "<p>34545 rows × 358 columns</p>\n",
       "</div>"
      ],
      "text/plain": [
       "        _STATE  FMONTH    IDATE  IMONTH  IDAY  IYEAR  DISPCODE       SEQNO  \\\n",
       "49938      9.0     5.0  5172017       5    17   2017    1200.0  2017000001   \n",
       "49939      9.0     2.0  2142017       2    14   2017    1200.0  2017000002   \n",
       "49940      9.0     1.0  1292017       1    29   2017    1200.0  2017000003   \n",
       "49941      9.0     7.0  9112017       9    11   2017    1200.0  2017000004   \n",
       "49942      9.0     5.0  7182017       7    18   2017    1200.0  2017000005   \n",
       "...        ...     ...      ...     ...   ...    ...       ...         ...   \n",
       "303774    36.0     5.0  5152017       5    15   2017    1200.0  2017012245   \n",
       "303775    36.0     6.0  6252017       6    25   2017    1200.0  2017012246   \n",
       "303776    36.0     7.0  7212017       7    21   2017    1200.0  2017012247   \n",
       "303777    36.0     7.0  7202017       7    20   2017    1200.0  2017012248   \n",
       "303778    36.0     7.0  7252017       7    25   2017    1200.0  2017012249   \n",
       "\n",
       "                _PSU  CTELENM1  ...  _PA300R2  _PA30021  _PASTRNG  _PAREC1  \\\n",
       "49938   2.017000e+09       NaN  ...       2.0       2.0       2.0      4.0   \n",
       "49939   2.017000e+09       NaN  ...       1.0       1.0       1.0      1.0   \n",
       "49940   2.017000e+09       NaN  ...       3.0       2.0       1.0      3.0   \n",
       "49941   2.017000e+09       NaN  ...       2.0       2.0       2.0      2.0   \n",
       "49942   2.017000e+09       NaN  ...       2.0       2.0       1.0      1.0   \n",
       "...              ...       ...  ...       ...       ...       ...      ...   \n",
       "303774  2.017012e+09       NaN  ...       3.0       2.0       2.0      4.0   \n",
       "303775  2.017012e+09       NaN  ...       2.0       2.0       2.0      4.0   \n",
       "303776  2.017012e+09       NaN  ...       2.0       2.0       2.0      4.0   \n",
       "303777  2.017012e+09       NaN  ...       9.0       9.0       9.0      9.0   \n",
       "303778  2.017012e+09       NaN  ...       3.0       2.0       2.0      4.0   \n",
       "\n",
       "        _PASTAE1  _RFSEAT2  _RFSEAT3  _FLSHOT6  _PNEUMO2  _AIDTST3  \n",
       "49938        2.0       1.0       1.0       NaN       NaN       1.0  \n",
       "49939        1.0       2.0       2.0       NaN       NaN       2.0  \n",
       "49940        2.0       1.0       1.0       NaN       NaN       2.0  \n",
       "49941        2.0       1.0       1.0       NaN       NaN       1.0  \n",
       "49942        1.0       1.0       1.0       NaN       NaN       2.0  \n",
       "...          ...       ...       ...       ...       ...       ...  \n",
       "303774       2.0       1.0       1.0       NaN       NaN       1.0  \n",
       "303775       2.0       1.0       1.0       NaN       NaN       1.0  \n",
       "303776       2.0       1.0       1.0       NaN       NaN       1.0  \n",
       "303777       9.0       9.0       9.0       9.0       9.0       9.0  \n",
       "303778       2.0       1.0       1.0       NaN       NaN       1.0  \n",
       "\n",
       "[34545 rows x 358 columns]"
      ]
     },
     "execution_count": 2,
     "metadata": {},
     "output_type": "execute_result"
    }
   ],
   "source": [
    "# Run this cell without changes\n",
    "df = pd.read_csv(\"data/case_study.csv\", index_col=0, low_memory=False)\n",
    "df"
   ]
  },
  {
   "cell_type": "markdown",
   "metadata": {},
   "source": [
    "Our main column of interest is called `PHYSHLTH`. We display summary statistics and plot a distribution below:"
   ]
  },
  {
   "cell_type": "code",
   "execution_count": 3,
   "metadata": {},
   "outputs": [
    {
     "data": {
      "text/plain": [
       "count    34545.000000\n",
       "mean        60.213403\n",
       "std         37.504566\n",
       "min          1.000000\n",
       "25%         15.000000\n",
       "50%         88.000000\n",
       "75%         88.000000\n",
       "max         99.000000\n",
       "Name: PHYSHLTH, dtype: float64"
      ]
     },
     "execution_count": 3,
     "metadata": {},
     "output_type": "execute_result"
    }
   ],
   "source": [
    "# Run this cell without changes\n",
    "df['PHYSHLTH'].describe()"
   ]
  },
  {
   "cell_type": "code",
   "execution_count": 4,
   "metadata": {},
   "outputs": [
    {
     "data": {
      "image/png": "[encoded data removed]",
      "text/plain": [
       "<Figure size 640x480 with 1 Axes>"
      ]
     },
     "metadata": {},
     "output_type": "display_data"
    }
   ],
   "source": [
    "# Run this cell without changes\n",
    "fig, ax = plt.subplots()\n",
    "ax.hist(df[\"PHYSHLTH\"], bins=\"auto\")\n",
    "ax.set_xlabel(\"PHYSHLTH\")\n",
    "ax.set_ylabel(\"Count\")\n",
    "ax.set_title(\"Distribution of PHYSHLTH in Raw Data\");"
   ]
  },
  {
   "cell_type": "markdown",
   "metadata": {},
   "source": [
    "This feature is supposed to represent the number of days with bad physical health out of the past 30 days. Do you see anything wrong with what is displayed above? Explain."
   ]
  },
  {
   "cell_type": "code",
   "execution_count": 5,
   "metadata": {},
   "outputs": [
    {
     "data": {
      "text/plain": [
       "'The data has values with none replies as well as missing and non-replies in the analysis. It should count for only values ranging from 1-30.'"
      ]
     },
     "execution_count": 5,
     "metadata": {},
     "output_type": "execute_result"
    }
   ],
   "source": [
    "# Replace None with appropriate text\n",
    "\"\"\"\\\n",
    "The data has values with none replies as well as missing and non-replies in the analysis. It should count for only values ranging from 1-30.\\\n",
    "\"\"\""
   ]
  },
  {
   "cell_type": "markdown",
   "metadata": {},
   "source": [
    "Look in the data dictionary, page 17, to understand what is happening with these values. Then edit the cell below so:\n",
    "\n",
    "* The records where the `PHYSHLTH` value label is `None` are converted to 0\n",
    "* The records where the `PHYSHLTH` value label is `Number of days` are kept as-is\n",
    "* All other records are dropped (i.e. records with `Don't know/Not sure`, `Refused`, and `Not asked or Missing` value labels for `PHYSHLTH` are dropped)"
   ]
  },
  {
   "cell_type": "code",
   "execution_count": 6,
   "metadata": {},
   "outputs": [],
   "source": [
    "# Your code here\n",
    "# Replace the records with a 'PHYSHLTH' value of 88 with 0\n",
    "df['PHYSHLTH'].replace(88, 0, inplace=True)\n",
    "\n",
    "# Drop records a 'PHYSHLTH' value of 77, 99, or BLANK\n",
    "df.drop(df[df['PHYSHLTH'].isin([77, 99, None])].index, inplace=True)"
   ]
  },
  {
   "cell_type": "markdown",
   "metadata": {},
   "source": [
    "Run the code below to ensure you have the correct, cleaned dataframe:"
   ]
  },
  {
   "cell_type": "code",
   "execution_count": 7,
   "metadata": {},
   "outputs": [],
   "source": [
    "# Run this cell without changes\n",
    "\n",
    "# We should have fewer rows, the same number of columns\n",
    "assert df.shape == (33747, 358)\n",
    "\n",
    "# The maximum value in this column should now be 30\n",
    "assert df[\"PHYSHLTH\"].max() == 30.0"
   ]
  },
  {
   "cell_type": "markdown",
   "metadata": {},
   "source": [
    "Now we can look at the same descriptive information on our cleaned data:"
   ]
  },
  {
   "cell_type": "code",
   "execution_count": 8,
   "metadata": {},
   "outputs": [
    {
     "data": {
      "text/plain": [
       "count    33747.000000\n",
       "mean         4.085341\n",
       "std          8.513293\n",
       "min          0.000000\n",
       "25%          0.000000\n",
       "50%          0.000000\n",
       "75%          3.000000\n",
       "max         30.000000\n",
       "Name: PHYSHLTH, dtype: float64"
      ]
     },
     "execution_count": 8,
     "metadata": {},
     "output_type": "execute_result"
    }
   ],
   "source": [
    "# Run this cell without changes\n",
    "df['PHYSHLTH'].describe()"
   ]
  },
  {
   "cell_type": "code",
   "execution_count": 9,
   "metadata": {},
   "outputs": [
    {
     "data": {
      "image/png": "[encoded data removed]",
      "text/plain": [
       "<Figure size 640x480 with 1 Axes>"
      ]
     },
     "metadata": {},
     "output_type": "display_data"
    }
   ],
   "source": [
    "# Run this cell without changes\n",
    "fig, ax = plt.subplots()\n",
    "ax.hist(df[\"PHYSHLTH\"])\n",
    "ax.set_xlabel(\"PHYSHLTH\")\n",
    "ax.set_ylabel(\"Count\")\n",
    "ax.set_title(\"Distribution of PHYSHLTH in Cleaned Data\");"
   ]
  },
  {
   "cell_type": "markdown",
   "metadata": {},
   "source": [
    "That looks a lot more reasonable. Let's move on to the next step."
   ]
  },
  {
   "cell_type": "markdown",
   "metadata": {},
   "source": [
    "## 2. Describe the Distribution of Health Status by State\n",
    "\n",
    "As mentioned previously, this dataset only includes data from three states."
   ]
  },
  {
   "cell_type": "code",
   "execution_count": 10,
   "metadata": {},
   "outputs": [
    {
     "data": {
      "text/plain": [
       "36.0    11876\n",
       "34.0    11458\n",
       "9.0     10413\n",
       "Name: _STATE, dtype: int64"
      ]
     },
     "execution_count": 10,
     "metadata": {},
     "output_type": "execute_result"
    }
   ],
   "source": [
    "# Run this cell without changes\n",
    "df[\"_STATE\"].value_counts()"
   ]
  },
  {
   "cell_type": "markdown",
   "metadata": {},
   "source": [
    "Look in the data dictionary, pages 2-3, to determine which states map onto which codes. Then replace the numbers with strings representing the state names."
   ]
  },
  {
   "cell_type": "code",
   "execution_count": 11,
   "metadata": {},
   "outputs": [],
   "source": [
    "# Your code here\n",
    "states_dict = {36: \"New York\",\n",
    "               34: \"New Jersey\",\n",
    "               9: \"Connecticut\"\n",
    "               }\n",
    "\n",
    "df[\"_STATE\"].replace(states_dict, inplace=True)"
   ]
  },
  {
   "cell_type": "markdown",
   "metadata": {},
   "source": [
    "Below, we check the values:"
   ]
  },
  {
   "cell_type": "code",
   "execution_count": 12,
   "metadata": {},
   "outputs": [],
   "source": [
    "# Run this cell without changes\n",
    "\n",
    "# Shape should be the same\n",
    "assert df.shape == (33747, 358)\n",
    "\n",
    "# Values in state column should be changed\n",
    "assert sorted(list(df[\"_STATE\"].value_counts().index)) == ['Connecticut', 'New Jersey', 'New York']"
   ]
  },
  {
   "cell_type": "code",
   "execution_count": 13,
   "metadata": {},
   "outputs": [
    {
     "data": {
      "image/png": "[encoded data removed]",
      "text/plain": [
       "<Figure size 1500x600 with 1 Axes>"
      ]
     },
     "metadata": {},
     "output_type": "display_data"
    }
   ],
   "source": [
    "# Run this cell without changes\n",
    "\n",
    "ny = df.loc[df[\"_STATE\"] == \"New York\", \"PHYSHLTH\"]\n",
    "nj = df.loc[df[\"_STATE\"] == \"New Jersey\", \"PHYSHLTH\"]\n",
    "ct = df.loc[df[\"_STATE\"] == \"Connecticut\", \"PHYSHLTH\"]\n",
    "\n",
    "fig, ax = plt.subplots(figsize=(15, 6))\n",
    "\n",
    "ax.hist(\n",
    "    x=[ny, nj, ct],\n",
    "    label=[\"New York\", \"New Jersey\", \"Connecticut\"],\n",
    "    bins=range(32),\n",
    "    align=\"left\"\n",
    ")\n",
    "\n",
    "ax.set_xlabel(\"PHYSHLTH\")\n",
    "ax.set_ylabel(\"Count\")\n",
    "ax.set_title(\"Distribution of PHYSHLTH by State\")\n",
    "\n",
    "ax.legend(title=\"State\");"
   ]
  },
  {
   "cell_type": "markdown",
   "metadata": {},
   "source": [
    "Looking at the plot above, does the distribution seem to differ by state?\n",
    "\n",
    "(Just answer based on a visual inspection; we will do the statistical assessment next.)"
   ]
  },
  {
   "cell_type": "code",
   "execution_count": 14,
   "metadata": {},
   "outputs": [
    {
     "data": {
      "text/plain": [
       "'The distribution is generally the same as the previous one with minor differences between the states.'"
      ]
     },
     "execution_count": 14,
     "metadata": {},
     "output_type": "execute_result"
    }
   ],
   "source": [
    "# Replace None with appropriate text\n",
    "\"\"\"\\\n",
    "The distribution is generally the same as the previous one with minor differences between the states.\\\n",
    "\"\"\""
   ]
  },
  {
   "cell_type": "markdown",
   "metadata": {},
   "source": [
    "For the statistical test, we will be comparing the *means* of `PHYSHLTH` across states, as a representation of the overall distribution. In other words, when operationalizing the question **does `PHYSHLTH` differ by state?** we want to answer that in terms of the mean `PHYSHLTH`.\n",
    "\n",
    "Let's look at those means:"
   ]
  },
  {
   "cell_type": "code",
   "execution_count": 15,
   "metadata": {},
   "outputs": [
    {
     "data": {
      "text/plain": [
       "_STATE\n",
       "Connecticut    3.688562\n",
       "New Jersey     4.380957\n",
       "New York       4.148030\n",
       "Name: PHYSHLTH, dtype: float64"
      ]
     },
     "execution_count": 15,
     "metadata": {},
     "output_type": "execute_result"
    }
   ],
   "source": [
    "# Run this cell without changes\n",
    "df.groupby(\"_STATE\")[\"PHYSHLTH\"].mean()"
   ]
  },
  {
   "cell_type": "markdown",
   "metadata": {},
   "source": [
    "You likely noted that the overall distribution looked about the same, but these means are different. We have a range from Connecticut with about 3.7 days of bad health to New Jersey with about 4.4 days. But is that difference statistically significant?"
   ]
  },
  {
   "cell_type": "markdown",
   "metadata": {},
   "source": [
    "Identify which of the statistical tests you have learned is the most appropriate for this question, and why. Make sure you mention what kinds of variables are being compared (numeric and categorical), and how many categories there are."
   ]
  },
  {
   "cell_type": "code",
   "execution_count": 16,
   "metadata": {},
   "outputs": [
    {
     "data": {
      "text/plain": [
       "'The Anaysis of Variance (ANOVA) is the most useful as there are many variables with different means'"
      ]
     },
     "execution_count": 16,
     "metadata": {},
     "output_type": "execute_result"
    }
   ],
   "source": [
    "# Replace None with appropriate text\n",
    "\"\"\"\\\n",
    "The Anaysis of Variance (ANOVA) is the most useful as there are many variables with different means\\\n",
    "\"\"\""
   ]
  },
  {
   "cell_type": "markdown",
   "metadata": {},
   "source": [
    "Now, identify the null and alternative hypotheses:"
   ]
  },
  {
   "cell_type": "code",
   "execution_count": 17,
   "metadata": {},
   "outputs": [
    {
     "data": {
      "text/plain": [
       "'\\nNull Hypothesis: The is no significant difference in PHYSHLTH between states\\nAlternative Hypothesis: There is a difference in PHYSHLTH between states\\n'"
      ]
     },
     "execution_count": 17,
     "metadata": {},
     "output_type": "execute_result"
    }
   ],
   "source": [
    "# Replace None with appropriate text\n",
    "\"\"\"\n",
    "Null Hypothesis: The is no significant difference in PHYSHLTH between states\n",
    "Alternative Hypothesis: There is a difference in PHYSHLTH between states\n",
    "\"\"\""
   ]
  },
  {
   "cell_type": "markdown",
   "metadata": {},
   "source": [
    "In the cell below, we set up and execute the statistical test for you. If this doesn't match your previous answer about which test to perform, look at the solution branch to understand why this is the appropriate test."
   ]
  },
  {
   "cell_type": "code",
   "execution_count": 18,
   "metadata": {},
   "outputs": [
    {
     "data": {
      "text/html": [
       "<div>\n",
       "<style scoped>\n",
       "    .dataframe tbody tr th:only-of-type {\n",
       "        vertical-align: middle;\n",
       "    }\n",
       "\n",
       "    .dataframe tbody tr th {\n",
       "        vertical-align: top;\n",
       "    }\n",
       "\n",
       "    .dataframe thead th {\n",
       "        text-align: right;\n",
       "    }\n",
       "</style>\n",
       "<table border=\"1\" class=\"dataframe\">\n",
       "  <thead>\n",
       "    <tr style=\"text-align: right;\">\n",
       "      <th></th>\n",
       "      <th>df</th>\n",
       "      <th>sum_sq</th>\n",
       "      <th>mean_sq</th>\n",
       "      <th>F</th>\n",
       "      <th>PR(&gt;F)</th>\n",
       "    </tr>\n",
       "  </thead>\n",
       "  <tbody>\n",
       "    <tr>\n",
       "      <th>C(_STATE)</th>\n",
       "      <td>2.0</td>\n",
       "      <td>2.687322e+03</td>\n",
       "      <td>1343.660882</td>\n",
       "      <td>18.558645</td>\n",
       "      <td>8.800607e-09</td>\n",
       "    </tr>\n",
       "    <tr>\n",
       "      <th>Residual</th>\n",
       "      <td>33744.0</td>\n",
       "      <td>2.443093e+06</td>\n",
       "      <td>72.400809</td>\n",
       "      <td>NaN</td>\n",
       "      <td>NaN</td>\n",
       "    </tr>\n",
       "  </tbody>\n",
       "</table>\n",
       "</div>"
      ],
      "text/plain": [
       "                df        sum_sq      mean_sq          F        PR(>F)\n",
       "C(_STATE)      2.0  2.687322e+03  1343.660882  18.558645  8.800607e-09\n",
       "Residual   33744.0  2.443093e+06    72.400809        NaN           NaN"
      ]
     },
     "execution_count": 18,
     "metadata": {},
     "output_type": "execute_result"
    }
   ],
   "source": [
    "# Run this cell without changes\n",
    "import statsmodels.api as sm\n",
    "from statsmodels.formula.api import ols\n",
    "\n",
    "formula = 'PHYSHLTH ~ C(_STATE)'\n",
    "lm = ols(formula, df).fit()\n",
    "sm.stats.anova_lm(lm)"
   ]
  },
  {
   "cell_type": "markdown",
   "metadata": {},
   "source": [
    "Interpret the results of this statistical test below. What is the calculated p-value? Were we able to reject the null hypothesis at an alpha of 0.05? What does this say about how `PHYSHLTH` varies by state? What recommendations would you make to the business?"
   ]
  },
  {
   "cell_type": "code",
   "execution_count": 19,
   "metadata": {},
   "outputs": [
    {
     "data": {
      "text/plain": [
       "'The test shows that the model was statistically significant with a p-value of 0.0 and thus we reject null at an alpha of 0.05.\\nThis mean that the PHYSHLTH differs between states and it would be recommeded that the business investigates all states'"
      ]
     },
     "execution_count": 19,
     "metadata": {},
     "output_type": "execute_result"
    }
   ],
   "source": [
    "# Replace None with appropriate text\n",
    "\"\"\"\\\n",
    "The test shows that the model was statistically significant with a p-value of 0.0 and thus we reject null at an alpha of 0.05.\n",
    "This mean that the PHYSHLTH differs between states and it would be recommeded that the business investigates all states\\\n",
    "\"\"\""
   ]
  },
  {
   "cell_type": "markdown",
   "metadata": {},
   "source": [
    "With that section wrapped up, let's move on to the next step."
   ]
  },
  {
   "cell_type": "markdown",
   "metadata": {},
   "source": [
    "## 3. Describe the Relationship between Health Status and Home Ownership Status\n",
    "\n",
    "This time, we want to categorize respondents by demographic information: specifically, we'll look at whether or not they own their home.\n",
    "\n",
    "Once again, this will require some data preparation. The variable of interest is contained in the `RENTHOM1` column. Currently the values look like this:"
   ]
  },
  {
   "cell_type": "code",
   "execution_count": 20,
   "metadata": {},
   "outputs": [
    {
     "data": {
      "text/plain": [
       "1.0    21690\n",
       "2.0    10244\n",
       "3.0     1526\n",
       "9.0      194\n",
       "7.0       93\n",
       "Name: RENTHOM1, dtype: int64"
      ]
     },
     "execution_count": 20,
     "metadata": {},
     "output_type": "execute_result"
    }
   ],
   "source": [
    "# Run this cell without changes\n",
    "df[\"RENTHOM1\"].value_counts()"
   ]
  },
  {
   "cell_type": "markdown",
   "metadata": {},
   "source": [
    "In the cell below, modify `df` so that we have dropped all records where the `RENTHOM1` value label is neither `Own` nor `Rent`, and we have replaced the numeric codes with `Own` and `Rent` respectively. You can find more information about codes on page 33 of the data dictionary."
   ]
  },
  {
   "cell_type": "code",
   "execution_count": 21,
   "metadata": {},
   "outputs": [],
   "source": [
    "# Your code here\n",
    "# Drop records with a 'RENTHOM1' value of 3, 7, 9, or BLANK\n",
    "df.drop(df[df['RENTHOM1'].isin([3, 7, 9, None])].index, inplace=True)\n",
    "\n",
    "# Replace the records with a 'RENTHOM1' value of 1 with 0 with Own and Rent respectively\n",
    "renthom1_dict = {1: \"Own\", 2: \"Rent\"}\n",
    "df['RENTHOM1'].replace(renthom1_dict, inplace=True)"
   ]
  },
  {
   "cell_type": "code",
   "execution_count": 22,
   "metadata": {},
   "outputs": [
    {
     "data": {
      "text/plain": [
       "Own     21690\n",
       "Rent    10244\n",
       "Name: RENTHOM1, dtype: int64"
      ]
     },
     "execution_count": 22,
     "metadata": {},
     "output_type": "execute_result"
    }
   ],
   "source": [
    "# Run this cell without changes\n",
    "df[\"RENTHOM1\"].value_counts()"
   ]
  },
  {
   "cell_type": "markdown",
   "metadata": {},
   "source": [
    "Below, we check that this was done correctly:"
   ]
  },
  {
   "cell_type": "code",
   "execution_count": 23,
   "metadata": {},
   "outputs": [],
   "source": [
    "# Run this cell without changes\n",
    "\n",
    "# Number of rows should be smaller again\n",
    "assert df.shape == (31934, 358)\n",
    "\n",
    "# Only two values should be present in this column\n",
    "assert sorted(list(df[\"RENTHOM1\"].value_counts().index)) == ['Own', 'Rent']"
   ]
  },
  {
   "cell_type": "markdown",
   "metadata": {},
   "source": [
    "Now, similar to the previous step, create a plot that shows the distribution of `PHYSHLTH` for those who own vs. rent their homes, including appropriate axis labels and legend. Because there is more of an imbalance of categories this time (more than twice as many owners as renters, compared to nearly-even numbers from New York, New Jersey, and Connecticut), make sure you add the argument `density=True`, so that the y-axis shows the density (proportion) rather than the count."
   ]
  },
  {
   "cell_type": "code",
   "execution_count": 24,
   "metadata": {},
   "outputs": [
    {
     "data": {
      "image/png": "[encoded data removed]",
      "text/plain": [
       "<Figure size 1500x600 with 1 Axes>"
      ]
     },
     "metadata": {},
     "output_type": "display_data"
    }
   ],
   "source": [
    "# Your code here\n",
    "owners = df.loc[df[\"RENTHOM1\"] == \"Own\", \"PHYSHLTH\"]\n",
    "\n",
    "renters = df.loc[df[\"RENTHOM1\"] == \"Rent\", \"PHYSHLTH\"]\n",
    "\n",
    "plt.figure(figsize=(15, 6))\n",
    "\n",
    "plt.hist(\n",
    "    x=[owners, renters],\n",
    "    label=[\"Owners\", \"Renters\"],\n",
    "    bins=32,\n",
    "    align=\"mid\",\n",
    "    density=True\n",
    "    )\n",
    "\n",
    "plt.xlabel(\"PHYSHLTH\")\n",
    "plt.ylabel(\"Density\")\n",
    "plt.title(\"Distribution of PHYSHLTH by Home Ownership Status\")\n",
    "plt.legend();"
   ]
  },
  {
   "cell_type": "markdown",
   "metadata": {},
   "source": [
    "Then run this code to find the averages:"
   ]
  },
  {
   "cell_type": "code",
   "execution_count": 25,
   "metadata": {},
   "outputs": [
    {
     "data": {
      "text/plain": [
       "RENTHOM1\n",
       "Own     3.531213\n",
       "Rent    5.197970\n",
       "Name: PHYSHLTH, dtype: float64"
      ]
     },
     "execution_count": 25,
     "metadata": {},
     "output_type": "execute_result"
    }
   ],
   "source": [
    "# Run this cell without changes\n",
    "df.groupby(\"RENTHOM1\")[\"PHYSHLTH\"].mean()"
   ]
  },
  {
   "cell_type": "markdown",
   "metadata": {},
   "source": [
    "Now, interpret the plot and averages. Does it seem like there a difference in the number of unhealthy days between those who rent their homes and those who own their homes? How does this compare to the distributions by state?"
   ]
  },
  {
   "cell_type": "code",
   "execution_count": 26,
   "metadata": {},
   "outputs": [
    {
     "data": {
      "text/plain": [
       "'\\nThere is a difference between them. The distribution is similar to distributions bby state just more clear.\\n'"
      ]
     },
     "execution_count": 26,
     "metadata": {},
     "output_type": "execute_result"
    }
   ],
   "source": [
    "# Replace None with appropriate text\n",
    "\"\"\"\n",
    "There is a difference between them. The distribution is similar to distributions bby state just more clear.\n",
    "\"\"\""
   ]
  },
  {
   "cell_type": "markdown",
   "metadata": {},
   "source": [
    "Now, choose and execute an appropriate statistical test. Make sure you describe why you chose the test, the null and alternative hypotheses, and what the result of the test means."
   ]
  },
  {
   "cell_type": "code",
   "execution_count": 27,
   "metadata": {},
   "outputs": [
    {
     "data": {
      "text/plain": [
       "5.394649320817594e-54"
      ]
     },
     "execution_count": 27,
     "metadata": {},
     "output_type": "execute_result"
    }
   ],
   "source": [
    "# Your code here (create additional cells as needed)\n",
    "import scipy.stats as stats\n",
    "\n",
    "if np.var(owners) == np.var(renters):\n",
    "    var_equal = True\n",
    "    p_value = stats.ttest_ind(owners, renters, equal_var=var_equal)\n",
    "else:\n",
    "    var_equal = False\n",
    "    p_value = stats.ttest_ind(owners, renters, equal_var=var_equal)\n",
    "    \n",
    "# As this is a one tail test, we will divide the p-value by 2\n",
    "p_value = p_value[1] / 2\n",
    "p_value"
   ]
  },
  {
   "cell_type": "code",
   "execution_count": 28,
   "metadata": {},
   "outputs": [
    {
     "name": "stdout",
     "output_type": "stream",
     "text": [
      "We see that the p-value is less than our alpha of 0.05. Therefore, we can reject the null hypothesis and can conclude that the mean of the renters is significantly greater than the mean of the owners.\n"
     ]
    }
   ],
   "source": [
    "print('We see that the p-value is less than our alpha of 0.05. Therefore, we can reject the null hypothesis and can conclude that the mean of the renters is significantly greater than the mean of the owners.')"
   ]
  },
  {
   "cell_type": "markdown",
   "metadata": {},
   "source": [
    "## 4. Describe the Relationship between Chronic Sickness and Nicotine Use\n",
    "\n",
    "Once again, this will require some preparation before we can run the statistical test. Create a new column `NICOTINE_USE` with 1 representing someone who uses or has used nicotine in some form, and 0 representing someone who hasn't.\n",
    "\n",
    "We define nicotine use as:\n",
    "\n",
    "* Answered `Yes` to the `SMOKE100` question (*Have you smoked at least 100 cigarettes in your entire life?*, page 43), OR\n",
    "* Answered `Every day` or `Some days` to the `USENOW3` question (*Do you currently use chewing tobacco, snuff, or snus every day, some days, or not at all?*, page 46), OR\n",
    "* Answered `Yes` to the `ECIGARET` question (*Have you ever used an e-cigarette or other electronic vaping product, even just one time, in your entire life?*, page 46)\n",
    "\n",
    "If a record matches one or more of the above criteria, `NICOTINE_USE` should be 1. Otherwise, `NICOTINE_USE` should be 0. Go ahead and keep all of the \"Don't know\" or \"Refused\" answers as 0."
   ]
  },
  {
   "cell_type": "code",
   "execution_count": 29,
   "metadata": {},
   "outputs": [
    {
     "data": {
      "text/plain": [
       "0    0.566763\n",
       "1    0.433237\n",
       "Name: NICOTINE_USE, dtype: float64"
      ]
     },
     "execution_count": 29,
     "metadata": {},
     "output_type": "execute_result"
    }
   ],
   "source": [
    "# Your code here\n",
    "df[\"NICOTINE_USE\"] = 0\n",
    "\n",
    "users = df[(df[\"SMOKE100\"] == 1) | (df[\"USENOW3\"] == 1) | (df[\"ECIGARET\"] == 1) | (df[\"USENOW3\"] == 1)]\n",
    "\n",
    "df.loc[users.index, \"NICOTINE_USE\"] = 1\n",
    "\n",
    "# Look at the distribution of values\n",
    "df[\"NICOTINE_USE\"].value_counts(normalize=True)"
   ]
  },
  {
   "cell_type": "markdown",
   "metadata": {},
   "source": [
    "This time, let's treat health status as a categorical variable. We'll say that a \"chronically sick\" person is a person who reports that their physical health was not good for 15 or more out of the past 30 days. (This is a simplification but it will work for this analysis.)\n",
    "\n",
    "In the cell below, create a new column of `df` called `CHRONIC`, which is 0 for records where `PHYSHLTH` is less than 15, and 1 for records where `PHYSHLTH` is 15 or more."
   ]
  },
  {
   "cell_type": "code",
   "execution_count": 30,
   "metadata": {},
   "outputs": [
    {
     "data": {
      "text/plain": [
       "0    28246\n",
       "1     3688\n",
       "Name: CHRONIC, dtype: int64"
      ]
     },
     "execution_count": 30,
     "metadata": {},
     "output_type": "execute_result"
    }
   ],
   "source": [
    "# Your code here\n",
    "df[\"CHRONIC\"] = 0\n",
    "\n",
    "notgood = df[df[\"PHYSHLTH\"] >= 15]\n",
    "\n",
    "df.loc[notgood.index, 'CHRONIC'] = 1\n",
    "\n",
    "# View the distribution of the newly-created column\n",
    "df[\"CHRONIC\"].value_counts()"
   ]
  },
  {
   "cell_type": "markdown",
   "metadata": {},
   "source": [
    "Now we can view the crosstabs for these two categorical variables, as well as display their distributions:"
   ]
  },
  {
   "cell_type": "code",
   "execution_count": 31,
   "metadata": {},
   "outputs": [
    {
     "data": {
      "text/html": [
       "<div>\n",
       "<style scoped>\n",
       "    .dataframe tbody tr th:only-of-type {\n",
       "        vertical-align: middle;\n",
       "    }\n",
       "\n",
       "    .dataframe tbody tr th {\n",
       "        vertical-align: top;\n",
       "    }\n",
       "\n",
       "    .dataframe thead th {\n",
       "        text-align: right;\n",
       "    }\n",
       "</style>\n",
       "<table border=\"1\" class=\"dataframe\">\n",
       "  <thead>\n",
       "    <tr style=\"text-align: right;\">\n",
       "      <th>NICOTINE_USE</th>\n",
       "      <th>0</th>\n",
       "      <th>1</th>\n",
       "    </tr>\n",
       "    <tr>\n",
       "      <th>CHRONIC</th>\n",
       "      <th></th>\n",
       "      <th></th>\n",
       "    </tr>\n",
       "  </thead>\n",
       "  <tbody>\n",
       "    <tr>\n",
       "      <th>0</th>\n",
       "      <td>16435</td>\n",
       "      <td>11811</td>\n",
       "    </tr>\n",
       "    <tr>\n",
       "      <th>1</th>\n",
       "      <td>1664</td>\n",
       "      <td>2024</td>\n",
       "    </tr>\n",
       "  </tbody>\n",
       "</table>\n",
       "</div>"
      ],
      "text/plain": [
       "NICOTINE_USE      0      1\n",
       "CHRONIC                   \n",
       "0             16435  11811\n",
       "1              1664   2024"
      ]
     },
     "execution_count": 31,
     "metadata": {},
     "output_type": "execute_result"
    }
   ],
   "source": [
    "# Run this cell without changes\n",
    "contingency_table = pd.crosstab(index=df[\"CHRONIC\"], columns=df[\"NICOTINE_USE\"])\n",
    "contingency_table"
   ]
  },
  {
   "cell_type": "code",
   "execution_count": 32,
   "metadata": {},
   "outputs": [
    {
     "data": {
      "image/png": "[encoded data removed]",
      "text/plain": [
       "<Figure size 640x480 with 1 Axes>"
      ]
     },
     "metadata": {},
     "output_type": "display_data"
    }
   ],
   "source": [
    "# Run this cell without changes\n",
    "\n",
    "no_nicotine_use = df.loc[df[\"NICOTINE_USE\"] == 0, \"CHRONIC\"]\n",
    "nicotine_use = df.loc[df[\"NICOTINE_USE\"] == 1, \"CHRONIC\"]\n",
    "\n",
    "fig, ax = plt.subplots()\n",
    "\n",
    "ax.hist(\n",
    "    x=[no_nicotine_use, nicotine_use],\n",
    "    label=[\"No Nicotine Use\", \"Nicotine Use\"],\n",
    "    bins=[0,1,2],\n",
    "    align=\"left\"\n",
    ")\n",
    "\n",
    "ax.set_ylabel(\"Count\")\n",
    "ax.set_xticks([0,1])\n",
    "ax.set_xticklabels([\"Not Chronically Sick\", \"Chronically Sick\"])\n",
    "ax.set_title(\"Distribution of Chronic Sickness by Nicotine Use\")\n",
    "\n",
    "ax.legend();"
   ]
  },
  {
   "cell_type": "markdown",
   "metadata": {},
   "source": [
    "Once again, it appears that there is a difference in health outcomes between these categories. In the cell below, select an appropriate statistical test, describe the null and alternative hypotheses, execute the test, and interpret the result."
   ]
  },
  {
   "cell_type": "code",
   "execution_count": 33,
   "metadata": {},
   "outputs": [
    {
     "data": {
      "text/plain": [
       "3.878716616837701e-51"
      ]
     },
     "execution_count": 33,
     "metadata": {},
     "output_type": "execute_result"
    }
   ],
   "source": [
    "# Your code here (create additional cells as needed)\n",
    "\"\"\"In this case we shall be using a chi-square test. It allows us to test whether the observed proportions for a categorical variable differ from hypothesized proportions. In this case, we have a categorical variable (NICOTINE_USE) and within that categorical variable, proportions of people who are chronically sick and others who are not.\n",
    "We can use this test to see if there is a significant difference between the proportions of people who are chronically sick and those who are not, depending on whether they use nicotine or not.\n",
    "\n",
    "Our Null Hypothesis is that there is no statistical difference in the nicotine users who have chronic sickness and those who do not use nicotine and have chronic sickness. In simpler terms, our hypothesis is that the nicotine use and chronic sickness are independent of each other.\n",
    "\n",
    "The Alternative Hypothesis is that there is a statistical difference in the nicotine users who have chronic sickness and those who do not use nicotine and have chronic sickness. In simpler terms, our hypothesis is that the nicotine use and chronic sickness are dependent on each other.\n",
    "\"\"\"\n",
    "\n",
    "\n",
    "pvalue = stats.chi2_contingency(contingency_table)[1]\n",
    "\n",
    "pvalue"
   ]
  },
  {
   "cell_type": "markdown",
   "metadata": {},
   "source": [
    "## 5. Choose Your Own Question\n",
    "\n",
    "Now that you have investigated physical health and chronic sickness and their relationships with state, home ownership, and nicotine use, you will conduct a similar investigation with variables of your choosing.\n",
    "\n",
    "Select an independent variable based on looking at the information in the data dictionary, and perform any additional transformations needed to use it in an analysis. Then set up, execute, and interpret a statistical test that addresses the relationship between that independent variable and `PHYSHLTH`.\n",
    "\n",
    "(There is no solution branch for this question, and feel free to move on if you have already spent more than 1.5 hours on this lab.)"
   ]
  },
  {
   "cell_type": "code",
   "execution_count": 34,
   "metadata": {},
   "outputs": [],
   "source": [
    "# Your code here (create additional cells as needed)"
   ]
  },
  {
   "cell_type": "markdown",
   "metadata": {},
   "source": [
    "## Conclusion\n",
    "\n",
    "Congratulations, another cumulative lab down! In this lab you practiced reading a data dictionary, performing various data transformations with pandas, and executing statistical tests to address business questions."
   ]
  }
 ],
 "metadata": {
  "kernelspec": {
   "display_name": "Python 3",
   "language": "python",
   "name": "python3"
  },
  "language_info": {
   "codemirror_mode": {
    "name": "ipython",
    "version": 3
   },
   "file_extension": ".py",
   "mimetype": "text/x-python",
   "name": "python",
   "nbconvert_exporter": "python",
   "pygments_lexer": "ipython3",
   "version": "3.8.5"
  }
 },
 "nbformat": 4,
 "nbformat_minor": 4
}
